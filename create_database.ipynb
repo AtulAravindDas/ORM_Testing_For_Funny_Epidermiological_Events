{
 "cells": [
  {
   "cell_type": "code",
   "execution_count": null,
   "id": "fee50716",
   "metadata": {},
   "outputs": [],
   "source": [
    "import pandas as pd\n",
    "import numpy as np\n",
    "import sqlite3\n",
    "\n",
    "df=pd.read_csv('/Users/atularavinddas/Documents/GitHub/ORM_Testing_For_Funny_Epidermiological_Events/funny_epidemiological_events.csv')"
   ]
  }
 ],
 "metadata": {
  "language_info": {
   "name": "python"
  }
 },
 "nbformat": 4,
 "nbformat_minor": 5
}
