{
 "cells": [
  {
   "cell_type": "code",
   "execution_count": null,
   "id": "680f842d",
   "metadata": {},
   "outputs": [],
   "source": [
    "from typing import List\n",
    "from typing import Optional\n",
    "from sqlalchemy import ForeignKey\n",
    "from sqlalchemy import String\n",
    "from sqlalchemy.orm import DeclarativeBase\n",
    "from sqlalchemy.orm import Mapped\n",
    "from sqlalchemy.orm import mapped_column\n",
    "from sqlalchemy.orm import relationship\n",
    "from sqlalchemy import Column, Integer, String, Date, Float\n",
    "from sqlalchemy import create_engine\n",
    "\n",
    "class Base(DeclarativeBase):\n",
    "    pass\n",
    "\n",
    "class Epidemic_events(Base):\n",
    "    __tablename__ = 'dirty'\n",
    "\n",
    "    event_id = Column(Integer, primary_key=True)\n",
    "    condition = Column(String)\n",
    "    agent = Column(String)\n",
    "    reporting_agency = Column(String)\n",
    "    affected_population = Column(String)\n",
    "    city = Column(String)\n",
    "    event_start_date = Column(Date)  # Use Date for date columns\n",
    "    event_end_date = Column(Date)\n",
    "    outcome = Column(String)\n",
    "    cost_of_damages = Column(Float)\n",
    "\n",
    "engine = create_engine(\"sqlite://health_events.db\", echo=True)"
   ]
  }
 ],
 "metadata": {
  "kernelspec": {
   "display_name": "ven",
   "language": "python",
   "name": "python3"
  },
  "language_info": {
   "name": "python",
   "version": "3.9.6"
  }
 },
 "nbformat": 4,
 "nbformat_minor": 5
}
